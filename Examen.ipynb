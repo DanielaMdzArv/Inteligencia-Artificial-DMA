{
  "nbformat": 4,
  "nbformat_minor": 0,
  "metadata": {
    "colab": {
      "provenance": [],
      "authorship_tag": "ABX9TyNoCmaIYUmnd4FKlwclT8uV",
      "include_colab_link": true
    },
    "kernelspec": {
      "name": "python3",
      "display_name": "Python 3"
    },
    "language_info": {
      "name": "python"
    }
  },
  "cells": [
    {
      "cell_type": "markdown",
      "metadata": {
        "id": "view-in-github",
        "colab_type": "text"
      },
      "source": [
        "<a href=\"https://colab.research.google.com/github/DanielaMdzArv/Inteligencia-Artificial-DMA/blob/main/Examen.ipynb\" target=\"_parent\"><img src=\"https://colab.research.google.com/assets/colab-badge.svg\" alt=\"Open In Colab\"/></a>"
      ]
    },
    {
      "cell_type": "code",
      "execution_count": null,
      "metadata": {
        "id": "EUWg_wGRiEt7"
      },
      "outputs": [],
      "source": []
    },
    {
      "cell_type": "markdown",
      "source": [
        "# ***Compuerta AND ***"
      ],
      "metadata": {
        "id": "k-niKc5ckSy1"
      }
    },
    {
      "cell_type": "code",
      "source": [
        "#Se define funcion para la compuerta\n",
        "def comp_and():\n",
        "  while True:\n",
        "    # Pide dos valores para x1 y x2\n",
        "    x1 = int(input('Ingrese un número (0 o 1):  '))\n",
        "    x2 = int(input('Ingrese otro número (0 o 1): '))\n",
        "\n",
        "    #Definicion de w(pesos) y s(sesgo) no deben cambiar\n",
        "    w1=2\n",
        "    w2=2\n",
        "    s=-3\n",
        "\n",
        "    #Se Define s para que se almacene el valor de suma y se realiza la operación\n",
        "    s= s+ (x1 * w1 + x2 * w2)\n",
        "\n",
        "    #funcion para verificar que si s es 0 o 1 para compuerta AND\n",
        "    if s >= 0:\n",
        "      y = 1\n",
        "    else:\n",
        "      y = 0\n",
        "    print(f'{x1} AND {x2} = {y}')\n",
        "\n",
        "    #Menu\n",
        "    sigue = input(\"¿Desea hacer otra consulta? (s/n): \").lower()\n",
        "    if sigue != 's':\n",
        "      print(\"Saliendo de la compuerta AND...\")\n",
        "      break\n",
        "\n",
        "# Llama a la función de la compuerta\n",
        "comp_and()"
      ],
      "metadata": {
        "id": "RdPXYV-_kXbU",
        "colab": {
          "base_uri": "https://localhost:8080/"
        },
        "outputId": "9520d625-b22e-40b3-f095-f8efcdcc9f3a"
      },
      "execution_count": 5,
      "outputs": [
        {
          "output_type": "stream",
          "name": "stdout",
          "text": [
            "Ingrese un número (0 o 1):  0\n",
            "Ingrese otro número (0 o 1): 0\n",
            "0 AND 0 = 0\n",
            "¿Desea hacer otra consulta? (s/n): s\n",
            "Ingrese un número (0 o 1):  1\n",
            "Ingrese otro número (0 o 1): 0\n",
            "1 AND 0 = 0\n",
            "¿Desea hacer otra consulta? (s/n): s\n",
            "Ingrese un número (0 o 1):  0\n",
            "Ingrese otro número (0 o 1): 1\n",
            "0 AND 1 = 0\n",
            "¿Desea hacer otra consulta? (s/n): s\n",
            "Ingrese un número (0 o 1):  1\n",
            "Ingrese otro número (0 o 1): 1\n",
            "1 AND 1 = 1\n",
            "¿Desea hacer otra consulta? (s/n): n\n",
            "Saliendo de la compuerta AND...\n"
          ]
        }
      ]
    },
    {
      "cell_type": "markdown",
      "source": [
        "# ***Compuerta OR***"
      ],
      "metadata": {
        "id": "osKD_BZK5uwm"
      }
    },
    {
      "cell_type": "code",
      "source": [
        "#Se define funcion para la compuerta\n",
        "def comp_or():\n",
        "    while True:\n",
        "      # Pide dos valores para x1 y x2\n",
        "      x1 = int(input('Ingrese un número (0 o 1):  '))\n",
        "      x2 = int(input('Ingrese otro número (0 o 1): '))\n",
        "\n",
        "      #Definicion de w(pesos) y s(sesgo) no deben cambiar\n",
        "      w1=2\n",
        "      w2=2\n",
        "      s=-1\n",
        "\n",
        "      #Se Define s para que se almacene el valor de suma y se realiza la operación\n",
        "      s = s + x1 * w1 + x2 * w2\n",
        "\n",
        "      #funcion para verificar que si s es 0 o 1 para compuerta OR\n",
        "      if s >= 0:\n",
        "        y = 1\n",
        "      else:\n",
        "        y = 0\n",
        "\n",
        "      print(f'{x1} OR {x2} = {y}')\n",
        "\n",
        "      # Menu\n",
        "      sigue = input(\"¿Desea hacer otra consulta? (s/n): \").lower()\n",
        "      if sigue != 's':\n",
        "        print(\"Saliendo de la compuerta OR...\")\n",
        "        break\n",
        "\n",
        "# Llamar a la función de la compuerta\n",
        "comp_or()\n",
        "\n"
      ],
      "metadata": {
        "colab": {
          "base_uri": "https://localhost:8080/"
        },
        "id": "aLp0dxNB6XdV",
        "outputId": "9cfc15e3-3154-45e3-f75a-45f72e7ccbe8"
      },
      "execution_count": 7,
      "outputs": [
        {
          "output_type": "stream",
          "name": "stdout",
          "text": [
            "Ingrese un número (0 o 1):  0\n",
            "Ingrese otro número (0 o 1): 0\n",
            "0 OR 0 = 0\n",
            "¿Desea hacer otra consulta? (s/n): s\n",
            "Ingrese un número (0 o 1):  1\n",
            "Ingrese otro número (0 o 1): 0\n",
            "1 OR 0 = 1\n",
            "¿Desea hacer otra consulta? (s/n): s\n",
            "Ingrese un número (0 o 1):  0\n",
            "Ingrese otro número (0 o 1): 1\n",
            "0 OR 1 = 1\n",
            "¿Desea hacer otra consulta? (s/n): s\n",
            "Ingrese un número (0 o 1):  1\n",
            "Ingrese otro número (0 o 1): 1\n",
            "1 OR 1 = 1\n",
            "¿Desea hacer otra consulta? (s/n): n\n",
            "Saliendo de la compuerta OR...\n"
          ]
        }
      ]
    }
  ]
}