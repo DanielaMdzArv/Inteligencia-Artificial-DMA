{
  "nbformat": 4,
  "nbformat_minor": 0,
  "metadata": {
    "colab": {
      "provenance": [],
      "authorship_tag": "ABX9TyMCoLblS+ohOeQDhuJqIovq",
      "include_colab_link": true
    },
    "kernelspec": {
      "name": "python3",
      "display_name": "Python 3"
    },
    "language_info": {
      "name": "python"
    }
  },
  "cells": [
    {
      "cell_type": "markdown",
      "metadata": {
        "id": "view-in-github",
        "colab_type": "text"
      },
      "source": [
        "<a href=\"https://colab.research.google.com/github/DanielaMdzArv/Inteligencia-Artificial-DMA/blob/main/Practica2_2.ipynb\" target=\"_parent\"><img src=\"https://colab.research.google.com/assets/colab-badge.svg\" alt=\"Open In Colab\"/></a>"
      ]
    },
    {
      "cell_type": "code",
      "execution_count": null,
      "metadata": {
        "id": "bAaprM2cg6VX"
      },
      "outputs": [],
      "source": []
    },
    {
      "cell_type": "markdown",
      "source": [
        "***Una empresa de servicios a terceros ofrece proyectos de consultoría y debe llevar el control de horas trabajadas por sus empleados en diferentes proyectos. Crea un programa que calcule las horas totales trabajadas por cada empleado en varios proyectos y su costo total en función de la tarifa por hora.***"
      ],
      "metadata": {
        "id": "F5d8sFw2g8Y1"
      }
    },
    {
      "cell_type": "code",
      "source": [
        "# Clase para representar un proyecto\n",
        "class Proyecto:\n",
        "    def __init__(self, id_proyecto, nombre, tarifa_hora):\n",
        "        self.id_proyecto = id_proyecto\n",
        "        self.nombre = nombre\n",
        "        self.tarifa_hora = tarifa_hora\n",
        "\n",
        "# Clase para representar un empleado\n",
        "class Empleado:\n",
        "    def __init__(self, id_empleado, nombre):\n",
        "        self.id_empleado = id_empleado\n",
        "        self.nombre = nombre\n",
        "        self.horas_trabajadas = {}  # Almacena horas trabajadas por proyecto\n",
        "\n",
        "    def registrar_horas(self, proyecto, horas):\n",
        "        if proyecto.id_proyecto in self.horas_trabajadas:\n",
        "            self.horas_trabajadas[proyecto.id_proyecto] += horas\n",
        "        else:\n",
        "            self.horas_trabajadas[proyecto.id_proyecto] = horas\n",
        "\n",
        "    def calcular_total_horas(self):\n",
        "        return sum(self.horas_trabajadas.values())\n",
        "\n",
        "    def calcular_costo_total(self, proyectos):\n",
        "        costo_total = 0\n",
        "        for id_proyecto, horas in self.horas_trabajadas.items():\n",
        "            tarifa_hora = proyectos[id_proyecto].tarifa_hora\n",
        "            costo_total += horas * tarifa_hora\n",
        "        return costo_total\n",
        "\n",
        "# Clase para gestionar el sistema de proyectos y empleados\n",
        "class SistemaConsultoria:\n",
        "    def __init__(self):\n",
        "        self.empleados = {}\n",
        "        self.proyectos = {}\n",
        "\n",
        "    def agregar_proyecto(self, id_proyecto, nombre, tarifa_hora):\n",
        "        nuevo_proyecto = Proyecto(id_proyecto, nombre, tarifa_hora)\n",
        "        self.proyectos[id_proyecto] = nuevo_proyecto\n",
        "        print(f\"Proyecto '{nombre}' agregado con tarifa de {tarifa_hora} por hora.\")\n",
        "\n",
        "    def agregar_empleado(self, id_empleado, nombre):\n",
        "        nuevo_empleado = Empleado(id_empleado, nombre)\n",
        "        self.empleados[id_empleado] = nuevo_empleado\n",
        "        print(f\"Empleado '{nombre}' agregado al sistema.\")\n",
        "\n",
        "    def registrar_horas_empleado(self, id_empleado, id_proyecto, horas):\n",
        "        if id_empleado in self.empleados and id_proyecto in self.proyectos:\n",
        "            empleado = self.empleados[id_empleado]\n",
        "            proyecto = self.proyectos[id_proyecto]\n",
        "            empleado.registrar_horas(proyecto, horas)\n",
        "            print(f\"{horas} horas registradas para el empleado '{empleado.nombre}' en el proyecto '{proyecto.nombre}'.\")\n",
        "        else:\n",
        "            print(\"Empleado o proyecto no encontrado.\")\n",
        "\n",
        "    def calcular_reporte_empleado(self, id_empleado):\n",
        "        if id_empleado in self.empleados:\n",
        "            empleado = self.empleados[id_empleado]\n",
        "            total_horas = empleado.calcular_total_horas()\n",
        "            costo_total = empleado.calcular_costo_total(self.proyectos)\n",
        "            print(f\"Empleado: {empleado.nombre}\")\n",
        "            print(f\"Horas trabajadas totales: {total_horas}\")\n",
        "            print(f\"Costo total: ${costo_total:.2f}\")\n",
        "        else:\n",
        "            print(\"Empleado no encontrado.\")\n",
        "\n",
        "    def mostrar_informe_general(self):\n",
        "        print(\"Informe General:\")\n",
        "        for id_empleado, empleado in self.empleados.items():\n",
        "            total_horas = empleado.calcular_total_horas()\n",
        "            costo_total = empleado.calcular_costo_total(self.proyectos)\n",
        "            print(f\"Empleado: {empleado.nombre} | Horas: {total_horas} | Costo Total: ${costo_total:.2f}\")\n",
        "\n",
        "# Uso del sistema de consultoría\n",
        "if __name__ == \"__main__\":\n",
        "    sistema = SistemaConsultoria()\n",
        "\n",
        "    # Proyectos agregados\n",
        "    sistema.agregar_proyecto(1, \"Consultoría de Marketing\", 50)\n",
        "    sistema.agregar_proyecto(2, \"Implementación de ERP\", 75)\n",
        "    sistema.agregar_proyecto(3, \"Auditoría Financiera\", 60)\n",
        "\n",
        "    # Empleados agregados\n",
        "    sistema.agregar_empleado(101, \"Daniela Mendoza\")\n",
        "    sistema.agregar_empleado(102, \"Jose Herrera\")\n",
        "\n",
        "    # Horas trabajadas\n",
        "    sistema.registrar_horas_empleado(101, 1, 10)  # Daniela trabajó 10 horas en Consultoría de Marketing\n",
        "    sistema.registrar_horas_empleado(101, 2, 5)   # Daniela trabajó 5 horas en Implementación de ERP\n",
        "    sistema.registrar_horas_empleado(102, 3, 8)   # Jose trabajó 8 horas en Auditoría Financiera\n",
        "    sistema.registrar_horas_empleado(102, 1, 4)   # Jose trabajó 4 horas en Consultoría de Marketing\n",
        "\n",
        "    # Generar informe para un empleado específico\n",
        "    print(\"\\n--- Informe del empleado Daniela Mendoza ---\")\n",
        "    sistema.calcular_reporte_empleado(101)\n",
        "\n",
        "    print(\"\\n--- Informe del empleado Jose Herrera ---\")\n",
        "    sistema.calcular_reporte_empleado(102)\n",
        "\n",
        "    # Mostrar informe general\n",
        "    print(\"\\n--- Informe general de todos los empleados ---\")\n",
        "    sistema.mostrar_informe_general()\n"
      ],
      "metadata": {
        "colab": {
          "base_uri": "https://localhost:8080/"
        },
        "id": "_HEz-6WyhJLZ",
        "outputId": "27d0891f-f52e-4aed-d46b-22d0ab5ea57d"
      },
      "execution_count": 2,
      "outputs": [
        {
          "output_type": "stream",
          "name": "stdout",
          "text": [
            "Proyecto 'Consultoría de Marketing' agregado con tarifa de 50 por hora.\n",
            "Proyecto 'Implementación de ERP' agregado con tarifa de 75 por hora.\n",
            "Proyecto 'Auditoría Financiera' agregado con tarifa de 60 por hora.\n",
            "Empleado 'Daniela Mendoza' agregado al sistema.\n",
            "Empleado 'Jose Herrera' agregado al sistema.\n",
            "10 horas registradas para el empleado 'Daniela Mendoza' en el proyecto 'Consultoría de Marketing'.\n",
            "5 horas registradas para el empleado 'Daniela Mendoza' en el proyecto 'Implementación de ERP'.\n",
            "8 horas registradas para el empleado 'Jose Herrera' en el proyecto 'Auditoría Financiera'.\n",
            "4 horas registradas para el empleado 'Jose Herrera' en el proyecto 'Consultoría de Marketing'.\n",
            "\n",
            "--- Informe del empleado Daniela Mendoza ---\n",
            "Empleado: Daniela Mendoza\n",
            "Horas trabajadas totales: 15\n",
            "Costo total: $875.00\n",
            "\n",
            "--- Informe del empleado Jose Herrera ---\n",
            "Empleado: Jose Herrera\n",
            "Horas trabajadas totales: 12\n",
            "Costo total: $680.00\n",
            "\n",
            "--- Informe general de todos los empleados ---\n",
            "Informe General:\n",
            "Empleado: Daniela Mendoza | Horas: 15 | Costo Total: $875.00\n",
            "Empleado: Jose Herrera | Horas: 12 | Costo Total: $680.00\n"
          ]
        }
      ]
    }
  ]
}