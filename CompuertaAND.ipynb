{
  "nbformat": 4,
  "nbformat_minor": 0,
  "metadata": {
    "colab": {
      "provenance": [],
      "authorship_tag": "ABX9TyM15A5TC5AN5v0qO2vFta0t",
      "include_colab_link": true
    },
    "kernelspec": {
      "name": "python3",
      "display_name": "Python 3"
    },
    "language_info": {
      "name": "python"
    }
  },
  "cells": [
    {
      "cell_type": "markdown",
      "metadata": {
        "id": "view-in-github",
        "colab_type": "text"
      },
      "source": [
        "<a href=\"https://colab.research.google.com/github/DanielaMdzArv/Inteligencia-Artificial-DMA/blob/main/CompuertaAND.ipynb\" target=\"_parent\"><img src=\"https://colab.research.google.com/assets/colab-badge.svg\" alt=\"Open In Colab\"/></a>"
      ]
    },
    {
      "cell_type": "code",
      "execution_count": null,
      "metadata": {
        "id": "Te-X4sV9nRl-"
      },
      "outputs": [],
      "source": []
    },
    {
      "cell_type": "markdown",
      "source": [
        "# Neurona aprendizaje compuerta AND"
      ],
      "metadata": {
        "id": "8xWpyTslnS_E"
      }
    },
    {
      "cell_type": "markdown",
      "source": [
        "00 ->0\n",
        "\n",
        "01 ->0\n",
        "\n",
        "10 ->0\n",
        "\n",
        "11 ->1"
      ],
      "metadata": {
        "id": "mIKOBJ5BnfC9"
      }
    },
    {
      "cell_type": "code",
      "source": [
        "#datos modificados: peso: w1 con 2, w2 con 2 y el sesgo con -3\n",
        "x=[0,0]\n",
        "w=[2,2]\n",
        "s=-3\n",
        "for i in range(0,2):\n",
        "  s=s+x[i]*w[i]\n",
        "print(s)\n",
        "\n",
        "y=1 if s>0 else 0\n",
        "print(x[0], 'AND',x[1],'=',y)"
      ],
      "metadata": {
        "colab": {
          "base_uri": "https://localhost:8080/"
        },
        "id": "DIp3HOzQnoTA",
        "outputId": "349d4578-8d2b-475f-dccb-81cda0d073ab"
      },
      "execution_count": 4,
      "outputs": [
        {
          "output_type": "stream",
          "name": "stdout",
          "text": [
            "-3\n",
            "0 AND 0 = 0\n"
          ]
        }
      ]
    },
    {
      "cell_type": "markdown",
      "source": [
        "buscar peso que de resultados correctos en la salida"
      ],
      "metadata": {
        "id": "MVACBN3Nq0Eq"
      }
    }
  ]
}