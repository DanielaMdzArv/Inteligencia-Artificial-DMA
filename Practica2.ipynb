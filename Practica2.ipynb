{
  "nbformat": 4,
  "nbformat_minor": 0,
  "metadata": {
    "colab": {
      "provenance": [],
      "authorship_tag": "ABX9TyOwq1KAWcL7onyeHvLZstqF",
      "include_colab_link": true
    },
    "kernelspec": {
      "name": "python3",
      "display_name": "Python 3"
    },
    "language_info": {
      "name": "python"
    }
  },
  "cells": [
    {
      "cell_type": "markdown",
      "metadata": {
        "id": "view-in-github",
        "colab_type": "text"
      },
      "source": [
        "<a href=\"https://colab.research.google.com/github/DanielaMdzArv/Inteligencia-Artificial-DMA/blob/main/Practica2.ipynb\" target=\"_parent\"><img src=\"https://colab.research.google.com/assets/colab-badge.svg\" alt=\"Open In Colab\"/></a>"
      ]
    },
    {
      "cell_type": "code",
      "execution_count": null,
      "metadata": {
        "id": "nZYi5TRSds-_"
      },
      "outputs": [],
      "source": []
    },
    {
      "cell_type": "markdown",
      "source": [
        "***Un taller automotriz necesita llevar un control de su inventario de repuestos. Crea un programa que permita agregar, eliminar y consultar la cantidad de repuestos disponibles, así como realizar una compra cuando el inventario de un repuesto está bajo.***"
      ],
      "metadata": {
        "id": "V_Bu7IZod8-D"
      }
    },
    {
      "cell_type": "code",
      "source": [
        "# Clase para representar cada repuesto\n",
        "class Repuesto:\n",
        "    def __init__(self, codigo, descripcion, cantidad_disponible, cantidad_minima, proveedor, precio_unitario):\n",
        "        self.codigo = codigo\n",
        "        self.descripcion = descripcion\n",
        "        self.cantidad_disponible = cantidad_disponible\n",
        "        self.cantidad_minima = cantidad_minima\n",
        "        self.proveedor = proveedor\n",
        "        self.precio_unitario = precio_unitario\n",
        "\n",
        "# Clase para gestionar el inventario de repuestos\n",
        "class Inventario:\n",
        "    def __init__(self):\n",
        "        self.repuestos = {}\n",
        "\n",
        "    def agregar_repuesto(self, codigo, descripcion, cantidad_disponible, cantidad_minima, proveedor, precio_unitario):\n",
        "        if codigo in self.repuestos:\n",
        "            print(f\"El repuesto con código {codigo} ya existe.\")\n",
        "        else:\n",
        "            nuevo_repuesto = Repuesto(codigo, descripcion, cantidad_disponible, cantidad_minima, proveedor, precio_unitario)\n",
        "            self.repuestos[codigo] = nuevo_repuesto\n",
        "            print(f\"Repuesto {descripcion} agregado al inventario.\")\n",
        "\n",
        "    def eliminar_repuesto(self, codigo):\n",
        "        if codigo in self.repuestos:\n",
        "            del self.repuestos[codigo]\n",
        "            print(f\"Repuesto con código {codigo} eliminado.\")\n",
        "        else:\n",
        "            print(f\"El repuesto con código {codigo} no existe.\")\n",
        "\n",
        "    def consultar_repuesto(self, codigo):\n",
        "        if codigo in self.repuestos:\n",
        "            repuesto = self.repuestos[codigo]\n",
        "            print(f\"Código: {repuesto.codigo}, Descripción: {repuesto.descripcion}, Cantidad Disponible: {repuesto.cantidad_disponible}, Proveedor: {repuesto.proveedor}\")\n",
        "        else:\n",
        "            print(f\"El repuesto con código {codigo} no existe.\")\n",
        "\n",
        "    def realizar_compra(self, codigo):\n",
        "        if codigo in self.repuestos:\n",
        "            repuesto = self.repuestos[codigo]\n",
        "            if repuesto.cantidad_disponible < repuesto.cantidad_minima:\n",
        "                print(f\"Comprando {repuesto.descripcion} del proveedor {repuesto.proveedor}.\")\n",
        "                repuesto.cantidad_disponible += repuesto.cantidad_minima  # Simula la compra\n",
        "            else:\n",
        "                print(f\"El repuesto {repuesto.descripcion} tiene suficiente stock.\")\n",
        "        else:\n",
        "            print(f\"El repuesto con código {codigo} no existe.\")\n",
        "\n",
        "    def mostrar_inventario(self):\n",
        "        if self.repuestos:\n",
        "            for codigo, repuesto in self.repuestos.items():\n",
        "                print(f\"Código: {codigo}, Descripción: {repuesto.descripcion}, Cantidad Disponible: {repuesto.cantidad_disponible}, Cantidad Mínima: {repuesto.cantidad_minima}\")\n",
        "        else:\n",
        "            print(\"El inventario está vacío.\")\n",
        "\n",
        "# Uso del sistema de inventario\n",
        "if __name__ == \"__main__\":\n",
        "    inventario = Inventario()\n",
        "\n",
        "    # Agregar repuestos al inventario\n",
        "    inventario.agregar_repuesto(\"001\", \"Filtro de Aire\", 10, 5, \"Proveedor1\", 50)\n",
        "    inventario.agregar_repuesto(\"002\", \"Bujía\", 15, 10, \"Proveedor2\", 10)\n",
        "\n",
        "    # Muestra el inventario\n",
        "    print(\"\\nInventario actual:\")\n",
        "    inventario.mostrar_inventario()\n",
        "\n",
        "    # Consulta un repuesto\n",
        "    print(\"\\nConsultando repuesto con código '002':\")\n",
        "    inventario.consultar_repuesto(\"002\")\n",
        "\n",
        "    # Elimina un repuesto\n",
        "    print(\"\\nEliminando repuesto con código '002':\")\n",
        "    inventario.eliminar_repuesto(\"002\")\n",
        "\n",
        "    # Muestra el inventario actualizado\n",
        "    print(\"\\nInventario después de eliminar:\")\n",
        "    inventario.mostrar_inventario()\n",
        "\n",
        "    # Muestra el inventario final\n",
        "    print(\"\\nInventario final:\")\n",
        "    inventario.mostrar_inventario()\n",
        "\n"
      ],
      "metadata": {
        "colab": {
          "base_uri": "https://localhost:8080/"
        },
        "id": "TB2hgVG6eDDF",
        "outputId": "5cd01f1d-4bbe-4fa2-8605-6427feae0980"
      },
      "execution_count": 4,
      "outputs": [
        {
          "output_type": "stream",
          "name": "stdout",
          "text": [
            "Repuesto Filtro de Aire agregado al inventario.\n",
            "Repuesto Bujía agregado al inventario.\n",
            "\n",
            "Inventario actual:\n",
            "Código: 001, Descripción: Filtro de Aire, Cantidad Disponible: 10, Cantidad Mínima: 5\n",
            "Código: 002, Descripción: Bujía, Cantidad Disponible: 15, Cantidad Mínima: 10\n",
            "\n",
            "Consultando repuesto con código '002':\n",
            "Código: 002, Descripción: Bujía, Cantidad Disponible: 15, Proveedor: Proveedor2\n",
            "\n",
            "Eliminando repuesto con código '002':\n",
            "Repuesto con código 002 eliminado.\n",
            "\n",
            "Inventario después de eliminar:\n",
            "Código: 001, Descripción: Filtro de Aire, Cantidad Disponible: 10, Cantidad Mínima: 5\n",
            "\n",
            "Inventario final:\n",
            "Código: 001, Descripción: Filtro de Aire, Cantidad Disponible: 10, Cantidad Mínima: 5\n"
          ]
        }
      ]
    }
  ]
}